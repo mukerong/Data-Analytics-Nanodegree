{
 "cells": [
  {
   "cell_type": "markdown",
   "metadata": {},
   "source": [
    "# OpenStreetMap Project - Chicago\n",
    "\n",
    "This project will use the map of a beautiful city, Chicago, IL, United States. I have lived here since graduating from college. I am very interested to see what the map database reveals. After unziping, the total database is a little more than 2GB.\n",
    "\n",
    "I will analyze this dataset by doing the following:\n",
    "\n",
    "* Extract a sample from the database.\n",
    "* Find the problems encountered in this dataset. \n",
    "* Clean up the data and import them to SQL.\n",
    "* Explore the data by querying in SQLite.\n",
    "* Additional ideas I have after exploring the dataset.\n",
    "\n",
    "Reference:\n",
    "\n",
    "* The summary of Chicago area can be found at [OpenStreetMap website](https://www.openstreetmap.org/relation/122604). \n",
    "* This data can be downloaded at [Mapzen Metro Extracts](https://mapzen.com/data/metro-extracts/metro/chicago_illinois/). \n",
    "* [OpenStreetMap Wiki](https://wiki.openstreetmap.org/wiki/Main_Page) shows the detail explanation of OpenStreetMap database."
   ]
  },
  {
   "cell_type": "markdown",
   "metadata": {},
   "source": [
    "## Import Libraries"
   ]
  },
  {
   "cell_type": "code",
   "execution_count": 17,
   "metadata": {
    "collapsed": true
   },
   "outputs": [],
   "source": [
    "import csv\n",
    "import codecs\n",
    "import pprint\n",
    "import re\n",
    "import xml.etree.cElementTree as ET\n",
    "import lxml\n",
    "import cerberus\n",
    "from collections import defaultdict"
   ]
  },
  {
   "cell_type": "markdown",
   "metadata": {},
   "source": [
    "## Extract a sample"
   ]
  },
  {
   "cell_type": "markdown",
   "metadata": {},
   "source": [
    "As mentioned before, this database is quite large, more than 2GB. Directly opening it or parsing it will crash the computer. Therefore, it is a good idea to extract a sample from this dataset. \n",
    "\n",
    "I will use the extract-sample-data.py file to extract 1% of the original data. This only needs to run once. The final sample file is around 20MB."
   ]
  },
  {
   "cell_type": "code",
   "execution_count": 2,
   "metadata": {},
   "outputs": [
    {
     "name": "stdout",
     "output_type": "stream",
     "text": [
      "1 loop, best of 3: 3min 30s per loop\n"
     ]
    }
   ],
   "source": [
    "%%timeit\n",
    "%run extract-sample-data.py"
   ]
  },
  {
   "cell_type": "markdown",
   "metadata": {},
   "source": [
    "After getting the sample from the database, it is a good idea to see the big picture of this sample to see if we have had enough data within the sample. Therefore, I want to write a function to check what tags are in the sample dataset, and how many of them."
   ]
  },
  {
   "cell_type": "code",
   "execution_count": 9,
   "metadata": {
    "collapsed": true
   },
   "outputs": [],
   "source": [
    "sample_file = 'sample_chicago.osm'"
   ]
  },
  {
   "cell_type": "code",
   "execution_count": 10,
   "metadata": {
    "collapsed": true
   },
   "outputs": [],
   "source": [
    "def count_tag(filename):\n",
    "    tags = {}\n",
    "    for event, elem in ET.iterparse(filename):\n",
    "        tag = elem.tag\n",
    "        if tag not in tags:\n",
    "            tags[tag] = 1\n",
    "        else:\n",
    "            tags[tag] += 1\n",
    "    return tags"
   ]
  },
  {
   "cell_type": "code",
   "execution_count": 26,
   "metadata": {},
   "outputs": [
    {
     "data": {
      "text/plain": [
       "{'member': 349,\n",
       " 'nd': 103077,\n",
       " 'node': 87172,\n",
       " 'osm': 1,\n",
       " 'relation': 48,\n",
       " 'tag': 67876,\n",
       " 'way': 12337}"
      ]
     },
     "execution_count": 26,
     "metadata": {},
     "output_type": "execute_result"
    }
   ],
   "source": [
    "count_tag(sample_file)"
   ]
  },
  {
   "cell_type": "markdown",
   "metadata": {},
   "source": [
    "It seems to be that we have a good amount of data within the sample. "
   ]
  },
  {
   "cell_type": "markdown",
   "metadata": {},
   "source": [
    "## Problem in this dataset\n",
    "\n",
    "After getting the sample data, we can look through the dataset, find the problems and clean it up.\n",
    "\n",
    "Through reading the documente and look through the sample data in a text editor, `<tag>` is used to save all the values. \n",
    "\n",
    "Here are some problems I noticed the following potential problems through reading the sample data:\n",
    "\n",
    "* The `<tag>`'s k attribute value is not consistent. Some only have lower case like \"ele\". Some have both lower case and colon, like \"gnis: id\". Others have special characters like.\n",
    "* The street name is not consistent. Some uses the whole spell, like \"street\" and \"avenue\", while others use abbreviation, like \"Ave\".\n",
    "* The phone number format is not consistent. Some have (XXX) XXX-XXXX while others have XXX-XXX-XXXX."
   ]
  },
  {
   "cell_type": "markdown",
   "metadata": {},
   "source": [
    "### k attribute issue\n",
    "\n",
    "The k-attribute has three main patterns:\n",
    "\n",
    "* The k-attribute values only contain lowercase letter, i.e. \"building\".\n",
    "* The k-attribute values contains both lowercase letter and colon, i.e. \"addr: city\".\n",
    "* The problematic pattern will contains special characters like \"&\".'\n",
    "* The rest will be \"others\".\n",
    "\n",
    "The first two patterns and \"others\" are good. They will not influence future analysis. However, the third one needs some clean-up. I will run the k_attrib_type.py file to find the patterns within my sample file."
   ]
  },
  {
   "cell_type": "code",
   "execution_count": 23,
   "metadata": {},
   "outputs": [
    {
     "data": {
      "text/plain": [
       "{'lower': 20677, 'lower_colon': 31308, 'other': 15891, 'problemchars': 0}"
      ]
     },
     "execution_count": 23,
     "metadata": {},
     "output_type": "execute_result"
    }
   ],
   "source": [
    "%run \"k-attribute-issues.py\"\n",
    "\n",
    "k_attrib_type(sample_file, keys)"
   ]
  },
  {
   "cell_type": "markdown",
   "metadata": {},
   "source": [
    "Based on this result, there is no problematic characters within k attributes. Therefore, we do not need to clean k attribute for future analysis."
   ]
  },
  {
   "cell_type": "markdown",
   "metadata": {},
   "source": [
    "### v attribute issue\n",
    "\n",
    "The v-attribute contains the value for k-attribute. There are two v attributes that I found have some potential problems after looking through the sample file in a text editor.\n",
    "\n",
    "* Many of the street name in this file use abbreviation. For example, it uses 'Dr' instead of 'Drive'. It may causes problems in later analysis. Therefore, I need to find abbreviation and fix them.\n",
    "* The phone number in this .osm file is not consistent. After looking through a small sample of this file, I found at least four kinds of format. Some phone numbers look like \"XXX-XXX-XXXX\", some look like \"(XXX) XXX-XXXX\", some look like \"+1-XXX-XXX-XXXX\" while others look like \"(XXX)XXX-XXXX\". There might be other formats as well. "
   ]
  },
  {
   "cell_type": "code",
   "execution_count": 178,
   "metadata": {},
   "outputs": [
    {
     "data": {
      "text/plain": [
       "defaultdict(set,\n",
       "            {'14': {'U.S. 14'},\n",
       "             'Ave': {'Alabama Ave', 'New York Ave'},\n",
       "             'Ave.': {'Ogden Ave.'},\n",
       "             'B': {'South Avenue B'},\n",
       "             'C': {'South Avenue C'},\n",
       "             'C405': {'S Williams St #C405'},\n",
       "             'Circle': {'Woodland Park Circle'},\n",
       "             'Ct': {'Boulder Ct', 'Timber Ct', 'Vail Ct'},\n",
       "             'Dr': {'Breckenridge Dr',\n",
       "              'Greenbriar Dr',\n",
       "              'Gregory M Sears Dr',\n",
       "              'John M Boor Dr',\n",
       "              'Summit Dr'},\n",
       "             'E': {'South Avenue E'},\n",
       "             'F': {'South Avenue F'},\n",
       "             'G': {'South Avenue G'},\n",
       "             'H': {'South Avenue H'},\n",
       "             'J': {'South Avenue J'},\n",
       "             'L': {'South Avenue L'},\n",
       "             'Ln': {'Leadville Ln'},\n",
       "             'M': {'South Avenue M'},\n",
       "             'N': {'900 N', 'South Avenue N'},\n",
       "             'O': {'South Avenue O'},\n",
       "             'Park': {'West Midway Park'},\n",
       "             'St': {'Kathleen St', 'Tipperary St', 'Towne St'}})"
      ]
     },
     "execution_count": 178,
     "metadata": {},
     "output_type": "execute_result"
    }
   ],
   "source": [
    "%run update-v-value.py\n",
    "\n",
    "street_type_re = re.compile(r'\\b\\S+\\.?$', re.IGNORECASE)\n",
    "expected = ['Street', 'Avenue', 'Boulevard', 'Drive', 'Court', 'Place',\n",
    "            'Square', 'Lane', 'Road', 'Trail', 'Parkway', 'Commons', 'Broadway', 'Circle'\n",
    "           'Park', 'Path', 'Terrace', 'West', 'Highway']\n",
    "\n",
    "audit(sample_file, \"addr:street\", street_type_re, expected)"
   ]
  },
  {
   "cell_type": "code",
   "execution_count": 181,
   "metadata": {},
   "outputs": [
    {
     "data": {
      "text/plain": [
       "defaultdict(set,\n",
       "            {'(312) 369-7900': {'(312) 369-7900'},\n",
       "             '(708) 749-0895': {'(708) 749-0895'},\n",
       "             '(847)434-0300': {'(847)434-0300'},\n",
       "             '(847)806-1230': {'(847)806-1230'},\n",
       "             '+1-708-715-7746': {'+1-708-715-7746'},\n",
       "             '219-988-2111': {'+1 219-988-2111'}})"
      ]
     },
     "execution_count": 181,
     "metadata": {},
     "output_type": "execute_result"
    }
   ],
   "source": [
    "%run update-v-value.py\n",
    "\n",
    "phone_type_re = re.compile(r'(\\+1-)?\\(?\\d\\d\\d\\)?[-| ]?\\d\\d\\d[-| ]?\\d\\d\\d\\d')\n",
    "expected = re.compile(r'^\\d\\d\\d-\\d\\d\\d-\\d\\d\\d\\d$')\n",
    "\n",
    "audit(sample_file, \"phone\", phone_type_re, expected)"
   ]
  },
  {
   "cell_type": "markdown",
   "metadata": {},
   "source": [
    "## Generate the csv files\n",
    "\n",
    "We have audited the Chicago osm file, and it is time to clean it and generate the csv files we need.\n",
    "\n",
    "Based on the previous analysis, there is no problematic characters within 'k' attributes. I will not update this part.\n",
    "\n",
    "The street type is inconsistent. There are many abbreviations inside. I will creating a mapping to update these parts.\n",
    "\n",
    "There are only six phone numbers that have format issues. It is too little compared to the whole datasets. Therefore, I will not clean them."
   ]
  },
  {
   "cell_type": "code",
   "execution_count": 210,
   "metadata": {},
   "outputs": [],
   "source": [
    "%run audit-v-value.py\n",
    "\n",
    "process_map(sample_file)"
   ]
  },
  {
   "cell_type": "code",
   "execution_count": null,
   "metadata": {
    "collapsed": true
   },
   "outputs": [],
   "source": []
  }
 ],
 "metadata": {
  "kernelspec": {
   "display_name": "Python [default]",
   "language": "python",
   "name": "python3"
  },
  "language_info": {
   "codemirror_mode": {
    "name": "ipython",
    "version": 3
   },
   "file_extension": ".py",
   "mimetype": "text/x-python",
   "name": "python",
   "nbconvert_exporter": "python",
   "pygments_lexer": "ipython3",
   "version": "3.5.3"
  }
 },
 "nbformat": 4,
 "nbformat_minor": 2
}
