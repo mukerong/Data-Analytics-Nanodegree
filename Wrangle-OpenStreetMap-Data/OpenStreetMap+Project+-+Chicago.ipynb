{
 "cells": [
  {
   "cell_type": "markdown",
   "metadata": {},
   "source": [
    "# OpenStreetMap Project - Chicago\n",
    "\n",
    "This project will use the map of a beautiful city, Chicago, IL, United States. I have lived here since graduating from college. I am very interested to see what the map database reveals. After unziping, the total database is a little more than 2GB.\n",
    "\n",
    "I will analyze this dataset by doing the following:\n",
    "\n",
    "* Extract a sample from the database.\n",
    "* Find the problems encountered in this dataset. \n",
    "* Clean up the data and import them to SQL.\n",
    "* Explore the data by querying in SQLite.\n",
    "* Additional ideas I have after exploring the dataset.\n",
    "\n",
    "Reference:\n",
    "\n",
    "* The summary of Chicago area can be found at [OpenStreetMap website](https://www.openstreetmap.org/relation/122604). \n",
    "* This data can be downloaded at [Mapzen Metro Extracts](https://mapzen.com/data/metro-extracts/metro/chicago_illinois/). \n",
    "* [OpenStreetMap Wiki](https://wiki.openstreetmap.org/wiki/Main_Page) shows the detail explanation of OpenStreetMap database."
   ]
  },
  {
   "cell_type": "markdown",
   "metadata": {},
   "source": [
    "## Import Libraries"
   ]
  },
  {
   "cell_type": "code",
   "execution_count": 1,
   "metadata": {
    "collapsed": true
   },
   "outputs": [],
   "source": [
    "import csv\n",
    "import codecs\n",
    "import pprint\n",
    "import re\n",
    "import xml.etree.cElementTree as ET\n",
    "import lxml\n",
    "import cerberus\n",
    "from collections import defaultdict\n",
    "import sqlite3"
   ]
  },
  {
   "cell_type": "markdown",
   "metadata": {},
   "source": [
    "## Extract a sample"
   ]
  },
  {
   "cell_type": "markdown",
   "metadata": {},
   "source": [
    "As mentioned before, this database is quite large, more than 2GB. Directly opening it or parsing it will crash the computer. Therefore, it is a good idea to extract a sample from this dataset. \n",
    "\n",
    "I will use the extract-sample-data.py file to extract 1% of the original data. This only needs to run once. The final sample file is around 20MB."
   ]
  },
  {
   "cell_type": "code",
   "execution_count": 2,
   "metadata": {},
   "outputs": [
    {
     "name": "stdout",
     "output_type": "stream",
     "text": [
      "1 loop, best of 1: 2min 20s per loop\n"
     ]
    }
   ],
   "source": [
    "%%timeit -r 1\n",
    "%run extract-sample-data.py"
   ]
  },
  {
   "cell_type": "markdown",
   "metadata": {},
   "source": [
    "After getting the sample from the database, it is a good idea to see the big picture of this sample to see if we have had enough data within the sample. Therefore, I want to write a function to check what tags are in the sample dataset, and how many of them."
   ]
  },
  {
   "cell_type": "code",
   "execution_count": 2,
   "metadata": {
    "collapsed": true
   },
   "outputs": [],
   "source": [
    "sample_file = 'sample_chicago.osm'"
   ]
  },
  {
   "cell_type": "code",
   "execution_count": 3,
   "metadata": {
    "collapsed": true
   },
   "outputs": [],
   "source": [
    "def count_tag(filename):\n",
    "    tags = {}\n",
    "    for event, elem in ET.iterparse(filename):\n",
    "        tag = elem.tag\n",
    "        if tag not in tags:\n",
    "            tags[tag] = 1\n",
    "        else:\n",
    "            tags[tag] += 1\n",
    "    return tags"
   ]
  },
  {
   "cell_type": "code",
   "execution_count": 5,
   "metadata": {},
   "outputs": [
    {
     "data": {
      "text/plain": [
       "{'member': 349,\n",
       " 'nd': 103077,\n",
       " 'node': 87172,\n",
       " 'osm': 1,\n",
       " 'relation': 48,\n",
       " 'tag': 67876,\n",
       " 'way': 12337}"
      ]
     },
     "execution_count": 5,
     "metadata": {},
     "output_type": "execute_result"
    }
   ],
   "source": [
    "count_tag(sample_file)"
   ]
  },
  {
   "cell_type": "markdown",
   "metadata": {},
   "source": [
    "It seems to be that we have a good amount of data within the sample. "
   ]
  },
  {
   "cell_type": "markdown",
   "metadata": {},
   "source": [
    "## Problem in this dataset\n",
    "\n",
    "After getting the sample data, we can look through the dataset, find the problems and clean it up.\n",
    "\n",
    "Through reading the documente and look through the sample data in a text editor, `<tag>` is used to save all the values. \n",
    "\n",
    "Here are some problems I noticed the following potential problems through reading the sample data:\n",
    "\n",
    "* The `<tag>`'s k attribute value is not consistent. Some only have lower case like \"ele\". Some have both lower case and colon, like \"gnis: id\". Others have special characters like.\n",
    "* The street name is not consistent. Some uses the whole spell, like \"street\" and \"avenue\", while others use abbreviation, like \"Ave\".\n",
    "* The phone number format is not consistent. Some have (XXX) XXX-XXXX while others have XXX-XXX-XXXX."
   ]
  },
  {
   "cell_type": "markdown",
   "metadata": {},
   "source": [
    "### k attribute issue\n",
    "\n",
    "The k-attribute has three main patterns:\n",
    "\n",
    "* The k-attribute values only contain lowercase letter, i.e. \"building\".\n",
    "* The k-attribute values contains both lowercase letter and colon, i.e. \"addr: city\".\n",
    "* The problematic pattern will contains special characters like \"&\".'\n",
    "* The rest will be \"others\".\n",
    "\n",
    "The first two patterns and \"others\" are good. They will not influence future analysis. However, the third one needs some clean-up. I will run the k_attrib_type.py file to find the patterns within my sample file."
   ]
  },
  {
   "cell_type": "code",
   "execution_count": 6,
   "metadata": {},
   "outputs": [
    {
     "data": {
      "text/plain": [
       "{'lower': 20677, 'lower_colon': 31308, 'other': 15891, 'problemchars': 0}"
      ]
     },
     "execution_count": 6,
     "metadata": {},
     "output_type": "execute_result"
    }
   ],
   "source": [
    "%run \"k-attribute-issues.py\"\n",
    "\n",
    "k_attrib_type(sample_file, keys)"
   ]
  },
  {
   "cell_type": "markdown",
   "metadata": {},
   "source": [
    "Based on this result, there is no problematic characters within k attributes. Therefore, we do not need to clean k attribute for future analysis."
   ]
  },
  {
   "cell_type": "markdown",
   "metadata": {},
   "source": [
    "### v attribute issue\n",
    "\n",
    "The v-attribute contains the value for k-attribute. There are two v attributes that I found have some potential problems after looking through the sample file in a text editor.\n",
    "\n",
    "* Many of the street name in this file use abbreviation. For example, it uses 'Dr' instead of 'Drive'. It may causes problems in later analysis. Therefore, I need to find abbreviation and fix them.\n",
    "* The phone number in this .osm file is not consistent. After looking through a small sample of this file, I found at least four kinds of format. Some phone numbers look like \"XXX-XXX-XXXX\", some look like \"(XXX) XXX-XXXX\", some look like \"+1-XXX-XXX-XXXX\" while others look like \"(XXX)XXX-XXXX\". There might be other formats as well. "
   ]
  },
  {
   "cell_type": "code",
   "execution_count": 7,
   "metadata": {},
   "outputs": [
    {
     "data": {
      "text/plain": [
       "defaultdict(set,\n",
       "            {'14': {'U.S. 14'},\n",
       "             'Ave': {'Alabama Ave', 'New York Ave'},\n",
       "             'Ave.': {'Ogden Ave.'},\n",
       "             'B': {'South Avenue B'},\n",
       "             'C': {'South Avenue C'},\n",
       "             'C405': {'S Williams St #C405'},\n",
       "             'Circle': {'Woodland Park Circle'},\n",
       "             'Ct': {'Boulder Ct', 'Timber Ct', 'Vail Ct'},\n",
       "             'Dr': {'Breckenridge Dr',\n",
       "              'Greenbriar Dr',\n",
       "              'Gregory M Sears Dr',\n",
       "              'John M Boor Dr',\n",
       "              'Summit Dr'},\n",
       "             'E': {'South Avenue E'},\n",
       "             'F': {'South Avenue F'},\n",
       "             'G': {'South Avenue G'},\n",
       "             'H': {'South Avenue H'},\n",
       "             'J': {'South Avenue J'},\n",
       "             'L': {'South Avenue L'},\n",
       "             'Ln': {'Leadville Ln'},\n",
       "             'M': {'South Avenue M'},\n",
       "             'N': {'900 N', 'South Avenue N'},\n",
       "             'O': {'South Avenue O'},\n",
       "             'Park': {'West Midway Park'},\n",
       "             'St': {'Kathleen St', 'Tipperary St', 'Towne St'}})"
      ]
     },
     "execution_count": 7,
     "metadata": {},
     "output_type": "execute_result"
    }
   ],
   "source": [
    "%run audit-v-value.py\n",
    "\n",
    "street_type_re = re.compile(r'\\b\\S+\\.?$', re.IGNORECASE)\n",
    "expected = ['Street', 'Avenue', 'Boulevard', 'Drive', 'Court', 'Place',\n",
    "            'Square', 'Lane', 'Road', 'Trail', 'Parkway', 'Commons', 'Broadway', 'Circle'\n",
    "           'Park', 'Path', 'Terrace', 'West', 'Highway']\n",
    "\n",
    "audit(sample_file, \"addr:street\", street_type_re, expected)"
   ]
  },
  {
   "cell_type": "code",
   "execution_count": 8,
   "metadata": {},
   "outputs": [
    {
     "data": {
      "text/plain": [
       "defaultdict(set,\n",
       "            {'(312) 369-7900': {'(312) 369-7900'},\n",
       "             '(708) 749-0895': {'(708) 749-0895'},\n",
       "             '(847)434-0300': {'(847)434-0300'},\n",
       "             '(847)806-1230': {'(847)806-1230'},\n",
       "             '+1-708-715-7746': {'+1-708-715-7746'},\n",
       "             '219-988-2111': {'+1 219-988-2111'}})"
      ]
     },
     "execution_count": 8,
     "metadata": {},
     "output_type": "execute_result"
    }
   ],
   "source": [
    "phone_type_re = re.compile(r'(\\+1-)?\\(?\\d\\d\\d\\)?[-| ]?\\d\\d\\d[-| ]?\\d\\d\\d\\d')\n",
    "expected = re.compile(r'^\\d\\d\\d-\\d\\d\\d-\\d\\d\\d\\d$')\n",
    "\n",
    "audit(sample_file, \"phone\", phone_type_re, expected)"
   ]
  },
  {
   "cell_type": "markdown",
   "metadata": {},
   "source": [
    "## Generate the csv files\n",
    "\n",
    "We have audited the Chicago osm file, and it is time to clean it and generate the csv files we need.\n",
    "\n",
    "Based on the previous analysis, there is no problematic characters within 'k' attributes. I will not update this part.\n",
    "\n",
    "The street type is inconsistent. There are many abbreviations inside. I will creating a mapping to update these parts.\n",
    "\n",
    "There are only six phone numbers that have format issues. It is too little compared to the whole datasets. Therefore, I will not clean them."
   ]
  },
  {
   "cell_type": "code",
   "execution_count": 18,
   "metadata": {
    "collapsed": true
   },
   "outputs": [],
   "source": [
    "%run generate-csv-file.py\n",
    "\n",
    "process_map(sample_file, validate=True)"
   ]
  },
  {
   "cell_type": "markdown",
   "metadata": {},
   "source": [
    "## Create the database"
   ]
  },
  {
   "cell_type": "markdown",
   "metadata": {},
   "source": [
    "After generating the csv files we need, it is time to transfer the csv files into a sqlite database. The shcema of this database is stored in schema.py file."
   ]
  },
  {
   "cell_type": "code",
   "execution_count": 55,
   "metadata": {
    "collapsed": true
   },
   "outputs": [],
   "source": [
    "%run create-database.py"
   ]
  },
  {
   "cell_type": "markdown",
   "metadata": {},
   "source": [
    "## Data Overview"
   ]
  },
  {
   "cell_type": "markdown",
   "metadata": {},
   "source": [
    "After creating the database, we can start the query and find some interesting facts within this database. Let's do some simple query to get an overview of this dataset."
   ]
  },
  {
   "cell_type": "code",
   "execution_count": 2,
   "metadata": {
    "collapsed": true
   },
   "outputs": [],
   "source": [
    "conn = sqlite3.connect('osm_chicago.db')\n",
    "c = conn.cursor()"
   ]
  },
  {
   "cell_type": "markdown",
   "metadata": {},
   "source": [
    "### Number of nodes"
   ]
  },
  {
   "cell_type": "code",
   "execution_count": 3,
   "metadata": {},
   "outputs": [
    {
     "data": {
      "text/plain": [
       "[(87172,)]"
      ]
     },
     "execution_count": 3,
     "metadata": {},
     "output_type": "execute_result"
    }
   ],
   "source": [
    "Q = '''\n",
    "    SELECT COUNT(*) FROM nodes;\n",
    "'''\n",
    "\n",
    "c.execute(Q).fetchall()"
   ]
  },
  {
   "cell_type": "markdown",
   "metadata": {},
   "source": [
    "### Number of ways"
   ]
  },
  {
   "cell_type": "code",
   "execution_count": 4,
   "metadata": {},
   "outputs": [
    {
     "data": {
      "text/plain": [
       "[(12337,)]"
      ]
     },
     "execution_count": 4,
     "metadata": {},
     "output_type": "execute_result"
    }
   ],
   "source": [
    "Q = '''\n",
    "    SELECT COUNT(*) FROM ways;\n",
    "'''\n",
    "\n",
    "c.execute(Q).fetchall()"
   ]
  },
  {
   "cell_type": "markdown",
   "metadata": {},
   "source": [
    "### Number of unique users"
   ]
  },
  {
   "cell_type": "code",
   "execution_count": 9,
   "metadata": {},
   "outputs": [
    {
     "data": {
      "text/plain": [
       "[(947,)]"
      ]
     },
     "execution_count": 9,
     "metadata": {},
     "output_type": "execute_result"
    }
   ],
   "source": [
    "Q = '''\n",
    "    SELECT COUNT (DISTINCT(total.uid)) FROM\n",
    "        (SELECT uid FROM nodes\n",
    "        UNION ALL SELECT uid FROM ways) total;\n",
    "'''\n",
    "\n",
    "c.execute(Q).fetchall()"
   ]
  },
  {
   "cell_type": "markdown",
   "metadata": {},
   "source": [
    "## Detail Exploration"
   ]
  },
  {
   "cell_type": "markdown",
   "metadata": {
    "collapsed": true
   },
   "source": [
    "I am a big foodie, so I am very interested in the restaurant in Chicago. First I want to know how many restaurants per cuisince type in the sample .osm file I generated."
   ]
  },
  {
   "cell_type": "code",
   "execution_count": 20,
   "metadata": {
    "collapsed": true
   },
   "outputs": [],
   "source": [
    "def cuisine_number(cursor):\n",
    "    '''\n",
    "    This function will return the # of restaurants of each cuisine types\n",
    "    within the osm database\n",
    "    '''\n",
    "    Q = '''\n",
    "    SELECT value, COUNT (DISTINCT(id))\n",
    "    FROM nodes_tags\n",
    "    WHERE key = 'cuisine'\n",
    "    GROUP BY value\n",
    "    ORDER BY 2 DESC\n",
    "    '''\n",
    "\n",
    "    return cursor.execute(Q).fetchall()"
   ]
  },
  {
   "cell_type": "code",
   "execution_count": 21,
   "metadata": {},
   "outputs": [
    {
     "data": {
      "text/plain": [
       "15"
      ]
     },
     "execution_count": 21,
     "metadata": {},
     "output_type": "execute_result"
    }
   ],
   "source": [
    "len(cuisine_number(c))"
   ]
  },
  {
   "cell_type": "markdown",
   "metadata": {},
   "source": [
    "It actually looks a little big weird. Based on my experience, Chicago has way more restaurants than this. Let's check the total number of restaurant"
   ]
  },
  {
   "cell_type": "code",
   "execution_count": 22,
   "metadata": {
    "collapsed": true
   },
   "outputs": [],
   "source": [
    "def num_restaurant(cursor):\n",
    "    '''\n",
    "    This function will return the total number of restaurants\n",
    "    within the database\n",
    "    '''\n",
    "    QUERY = '''\n",
    "    SELECT COUNT (DISTINCT(id)) FROM nodes_tags\n",
    "    WHERE nodes_tags.value = 'restaurant';\n",
    "    '''\n",
    "\n",
    "    results = cursor.execute(QUERY).fetchall()\n",
    "    return results"
   ]
  },
  {
   "cell_type": "code",
   "execution_count": 23,
   "metadata": {},
   "outputs": [
    {
     "data": {
      "text/plain": [
       "[(17,)]"
      ]
     },
     "execution_count": 23,
     "metadata": {},
     "output_type": "execute_result"
    }
   ],
   "source": [
    "num_restaurant(c)"
   ]
  },
  {
   "cell_type": "markdown",
   "metadata": {},
   "source": [
    "Based on the analysis above, not all the restaurants in the map has showed their cuisine types. Therefore, the two amounts are not the same. But I still doubt about the total number of restaurants. Let's do a quick analysis of the postcode for each cuisine type."
   ]
  },
  {
   "cell_type": "code",
   "execution_count": 24,
   "metadata": {
    "collapsed": true
   },
   "outputs": [],
   "source": [
    "def cuisine_location(cursor, cuisine_type):\n",
    "    '''\n",
    "    This function will return the postcode and the cuisine type\n",
    "    '''\n",
    "    QUERY = '''\n",
    "    SELECT nodes_tags.value, COUNT(*)\n",
    "    FROM nodes_tags\n",
    "    JOIN\n",
    "        (SELECT DISTINCT (id) FROM nodes_tags\n",
    "        WHERE key = 'cuisine' AND value = \"{}\") as second_nodes_tags\n",
    "    ON nodes_tags.id = second_nodes_tags.id\n",
    "    WHERE nodes_tags.key = 'postcode'\n",
    "    GROUP BY 1\n",
    "    ORDER BY 2 DESC;\n",
    "    '''.format(cuisine_type)\n",
    "\n",
    "    results = cursor.execute(QUERY).fetchall()\n",
    "    return results"
   ]
  },
  {
   "cell_type": "code",
   "execution_count": 25,
   "metadata": {},
   "outputs": [
    {
     "data": {
      "text/plain": [
       "[(u'60616', 1)]"
      ]
     },
     "execution_count": 25,
     "metadata": {},
     "output_type": "execute_result"
    }
   ],
   "source": [
    "cuisine_location(c, 'japanese')"
   ]
  },
  {
   "cell_type": "code",
   "execution_count": 26,
   "metadata": {},
   "outputs": [
    {
     "data": {
      "text/plain": [
       "[]"
      ]
     },
     "execution_count": 26,
     "metadata": {},
     "output_type": "execute_result"
    }
   ],
   "source": [
    "cuisine_location(c, 'mexican')"
   ]
  },
  {
   "cell_type": "markdown",
   "metadata": {},
   "source": [
    "Mexican cuisine shows zero, but it shows 1 in the above analysis. This could mean the postcode is missing for the mexican restaurants. Let's check it out."
   ]
  },
  {
   "cell_type": "code",
   "execution_count": 27,
   "metadata": {
    "collapsed": true
   },
   "outputs": [],
   "source": [
    "def cuisine_wo_code(cursor, cuisine_type):\n",
    "    '''\n",
    "    This function will return the id and # of restaurants that\n",
    "    don't have a postcode.\n",
    "    '''\n",
    "    Q = '''\n",
    "    SELECT nodes_tags.id, nodes_tags.value\n",
    "    FROM nodes_tags\n",
    "    WHERE (id NOT IN\n",
    "        (SELECT DISTINCT(id) FROM nodes_tags\n",
    "        WHERE key = 'postcode'))\n",
    "    AND (key = 'cuisine')\n",
    "    AND (value = \"{}\")\n",
    "    '''.format(cuisine_type)\n",
    "\n",
    "    results = cursor.execute(Q).fetchall()\n",
    "    return results"
   ]
  },
  {
   "cell_type": "code",
   "execution_count": 28,
   "metadata": {},
   "outputs": [
    {
     "data": {
      "text/plain": [
       "[(1317827223, u'mexican')]"
      ]
     },
     "execution_count": 28,
     "metadata": {},
     "output_type": "execute_result"
    }
   ],
   "source": [
    "cuisine_wo_code(c, 'mexican')"
   ]
  },
  {
   "cell_type": "markdown",
   "metadata": {
    "collapsed": true
   },
   "source": [
    "## Conclusion & Additional Ideas"
   ]
  },
  {
   "cell_type": "markdown",
   "metadata": {},
   "source": [
    "Based on the auditing process above, I think this is a very cleaned datasets for the purposes of this exercise. A lot of people has made a contribution to achieve it. There are still some improvements can be made.\n",
    "\n",
    "* The phone number doesn't have a consistent format. Based on the [phone number formatting guide](http://stdcxx.apache.org/doc/stdlibug/26-1.html), since osm is for mapping information around the world, '+1-XXX-XXX-XXXX' can be a good format for US number. The website can put some formatting validation or corrections for better formatting.\n",
    "* As I mentioned above, this dataset may be incomplete. There is only 17 restaurants within 1% of the total dataset. The sample data is relatively randome, so it shows the whole dataset does not have enough restaurants. It might because not many restaurant owners input their data into the dataset. To better improve the completeness of dataset, there can be some incentives for users to keep contributing to this dataset. For example, getting coupons of a restaurant after gathering the information from that restaurant. :)"
   ]
  },
  {
   "cell_type": "markdown",
   "metadata": {},
   "source": [
    "There are many benefits as well as some potential issues related to the two improvements.\n",
    "\n",
    "Make the phone number format consistent\n",
    "* Benefits:\n",
    "    * Based on the recommended formatting above, the phone number can show the country code. People can easily see which country does the 'node' belongs to, and can also point out if the country code is correct.\n",
    "    * People can also see the total number of digits. Therefore, problems with wrong number of digits can be avioded. \n",
    "* Potential Issues:\n",
    "    * There are chances that people do not know their country code when inputing the information. They may end up not writing down the number at all.\n",
    "    * The formatteing suggested are based on US number. Some phone number format, like Chinese phone number, will have a totally different format.\n",
    "    \n",
    "Improve the completeness of the map\n",
    "* Benefits:\n",
    "    * For a mapping data, completeness can be the most important thing. For a foodie like me, restaurants information is the first thing I want to learn. Incomplete information could frustrate many end-users.\n",
    "* Potential Issues:\n",
    "    * The cost to get all the data could be very high. People may not have the incentive to gather all the information needed.\n",
    "    * It is very hard to measure completeness. \"You don't know what you don't know\". Therefore, we need to set a standard first before diving in the gathering process. Otherwise, it can be a infinit process."
   ]
  }
 ],
 "metadata": {
  "kernelspec": {
   "display_name": "Python [conda env:python2]",
   "language": "python",
   "name": "conda-env-python2-py"
  },
  "language_info": {
   "codemirror_mode": {
    "name": "ipython",
    "version": 2
   },
   "file_extension": ".py",
   "mimetype": "text/x-python",
   "name": "python",
   "nbconvert_exporter": "python",
   "pygments_lexer": "ipython2",
   "version": "2.7.13"
  }
 },
 "nbformat": 4,
 "nbformat_minor": 2
}
