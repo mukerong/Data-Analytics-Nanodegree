{
 "cells": [
  {
   "cell_type": "markdown",
   "metadata": {},
   "source": [
    "# Identify Fraud from Enron Email "
   ]
  },
  {
   "cell_type": "markdown",
   "metadata": {},
   "source": [
    "Enron scandal is one of the most famous scandals in the world. Because of the fraud, Enron went bankrupt in 2002. I heard and learnt a lot about it since day one in business school. During that time, all I learnt was about how did they cheat on their financial statement, but why Arthur Andersen, the auditor, did not find out. \n",
    "\n",
    "I was very excited when I knew there are tens of thousands of emails and detailed financial data for top executives, which I have never heard or thought about before. By playing around with these datasets, I can become a detective, my dreamy job when I was a kid after watching a lot Case Closed, to identify person of interest. \n",
    "\n",
    "In this project, I will apply what I my machine learning knowledge in this project to build up algorithms to find out who were involved in the scandle, meaning they were indicted, reached a settlement or plea deal with the government, or testified in exchange for prosecution immunity."
   ]
  },
  {
   "cell_type": "markdown",
   "metadata": {},
   "source": [
    "# Dataset/Questions"
   ]
  },
  {
   "cell_type": "markdown",
   "metadata": {},
   "source": [
    "The dataset I am going to use includes the financial and email information of people related to the scandle. The information will be read to a dictionary. The dictionary key is the person's name, and the value is another dictionary, which contains the names of all the features and their values for that person. The features in the data fall into three major types, namely financial features, email features and POI labels.\n",
    "\n",
    "* financial features (all units are in US dollars)\n",
    "    * 'salary'\n",
    "    * 'deferral_payments'\n",
    "    * 'total_payments'\n",
    "    * 'loan_advances'\n",
    "    * 'bonus'\n",
    "    * 'restricted_stock_deferred'\n",
    "    * 'deferred_income'\n",
    "    * 'total_stock_value'\n",
    "    * 'expenses'\n",
    "    * 'exercised_stock_options'\n",
    "    * 'other'\n",
    "    * 'long_term_incentive'\n",
    "    * 'restricted_stock'\n",
    "    * 'director_fees'\n",
    "\n",
    "\n",
    "* email features (units are generally number of emails messages; notable exception is ‘email_address’, which is a text string)\n",
    "    * 'to_messages'\n",
    "    * 'email_address'\n",
    "    * 'from_poi_to_this_person'\n",
    "    * 'from_messages'\n",
    "    * 'from_this_person_to_poi'\n",
    "    * 'shared_receipt_with_poi'\n",
    "\n",
    "\n",
    "* POI label (boolean, represented as integer)\n",
    "    * ‘poi' \n",
    "    \n",
    "    \n",
    "The question to answer and the goal of this project is to find out what features are related to the person of interest. When there are information without poi labels, the machine learning algorithm will be able to figure out whether this person is person of interest or not."
   ]
  },
  {
   "cell_type": "code",
   "execution_count": 7,
   "metadata": {
    "collapsed": true
   },
   "outputs": [],
   "source": []
  },
  {
   "cell_type": "code",
   "execution_count": null,
   "metadata": {
    "collapsed": true
   },
   "outputs": [],
   "source": []
  }
 ],
 "metadata": {
  "kernelspec": {
   "display_name": "Python [conda env:python2]",
   "language": "python",
   "name": "conda-env-python2-py"
  },
  "language_info": {
   "codemirror_mode": {
    "name": "ipython",
    "version": 2
   },
   "file_extension": ".py",
   "mimetype": "text/x-python",
   "name": "python",
   "nbconvert_exporter": "python",
   "pygments_lexer": "ipython2",
   "version": "2.7.13"
  }
 },
 "nbformat": 4,
 "nbformat_minor": 2
}
