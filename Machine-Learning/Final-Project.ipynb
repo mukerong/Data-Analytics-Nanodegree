{
 "cells": [
  {
   "cell_type": "markdown",
   "metadata": {},
   "source": [
    "# Identify Fraud from Enron Email "
   ]
  },
  {
   "cell_type": "markdown",
   "metadata": {},
   "source": [
    "## Project Overview"
   ]
  },
  {
   "cell_type": "markdown",
   "metadata": {},
   "source": [
    "Enron scandal is one of the most famous scandals in the world. Because of the fraud, Enron went bankrupt in 2002. I heard and learnt a lot about it since day one in business school. During that time, all I learnt was about how did they cheat on their financial statement, but why Arthur Andersen, the auditor, did not find out. \n",
    "\n",
    "I was very excited when I knew there are tens of thousands of emails and detailed financial data for top executives, which I have never heard or thought about before. By playing around with these datasets, I can become a detective, my dreamy job when I was a kid after watching a lot Case Closed, to identify person of interest. \n",
    "\n",
    "In this project, I will apply what I my machine learning knowledge in this project to build up algorithms to find out who were involved in the scandle, meaning they were indicted, reached a settlement or plea deal with the government, or testified in exchange for prosecution immunity.\n",
    "\n",
    "The main code will be stored in poi_id.py file."
   ]
  },
  {
   "cell_type": "markdown",
   "metadata": {},
   "source": [
    "## Dataset Explanation& Problems Statement"
   ]
  },
  {
   "cell_type": "markdown",
   "metadata": {},
   "source": [
    "The dataset I am going to use includes the financial and email information of people related to the scandle. The information will be read to a dictionary. The dictionary key is the person's name, and the value is another dictionary, which contains the names of all the features and their values for that person. The features in the data fall into three major types, namely financial features, email features and POI labels.\n",
    "\n",
    "* financial features (all units are in US dollars)\n",
    "    * 'salary'\n",
    "    * 'deferral_payments'\n",
    "    * 'total_payments'\n",
    "    * 'loan_advances'\n",
    "    * 'bonus'\n",
    "    * 'restricted_stock_deferred'\n",
    "    * 'deferred_income'\n",
    "    * 'total_stock_value'\n",
    "    * 'expenses'\n",
    "    * 'exercised_stock_options'\n",
    "    * 'other'\n",
    "    * 'long_term_incentive'\n",
    "    * 'restricted_stock'\n",
    "    * 'director_fees'\n",
    "\n",
    "\n",
    "* email features (units are generally number of emails messages; notable exception is ‘email_address’, which is a text string)\n",
    "    * 'to_messages'\n",
    "    * 'email_address'\n",
    "    * 'from_poi_to_this_person'\n",
    "    * 'from_messages'\n",
    "    * 'from_this_person_to_poi'\n",
    "    * 'shared_receipt_with_poi'\n",
    "\n",
    "\n",
    "* POI label (boolean, represented as integer)\n",
    "    * ‘poi' \n",
    "    \n",
    "    \n",
    "The question to answer and the goal of this project is to find out what features are related to the person of interest. When there are information without poi labels, the machine learning algorithm will be able to figure out whether this person is person of interest or not."
   ]
  },
  {
   "cell_type": "markdown",
   "metadata": {},
   "source": [
    "## Setup"
   ]
  },
  {
   "cell_type": "code",
   "execution_count": 1,
   "metadata": {},
   "outputs": [
    {
     "name": "stdout",
     "output_type": "stream",
     "text": [
      "/Users/guanrongfu/GitHub/Udacity-DAND/Machine-Learning/supporting-file/final_project\n"
     ]
    }
   ],
   "source": [
    "cd /Users/guanrongfu/GitHub/Udacity-DAND/Machine-Learning/supporting-file/final_project"
   ]
  },
  {
   "cell_type": "code",
   "execution_count": 2,
   "metadata": {},
   "outputs": [
    {
     "name": "stderr",
     "output_type": "stream",
     "text": [
      "//anaconda/envs/python2/lib/python2.7/site-packages/sklearn/cross_validation.py:44: DeprecationWarning: This module was deprecated in version 0.18 in favor of the model_selection module into which all the refactored classes and functions are moved. Also note that the interface of the new CV iterators are different from that of this module. This module will be removed in 0.20.\n",
      "  \"This module will be removed in 0.20.\", DeprecationWarning)\n"
     ]
    }
   ],
   "source": [
    "import sys\n",
    "sys.path.append(\"../tools/\")\n",
    "import pickle\n",
    "from collections import defaultdict\n",
    "import numpy as np\n",
    "import pandas as pd\n",
    "import seaborn as sns\n",
    "import matplotlib.pyplot as plt\n",
    "from collections import defaultdict\n",
    "from feature_format import featureFormat, targetFeatureSplit\n",
    "from sklearn.preprocessing import MinMaxScaler, StandardScaler\n",
    "from sklearn.feature_selection import SelectKBest\n",
    "from sklearn.model_selection import train_test_split, GridSearchCV, StratifiedShuffleSplit\n",
    "from sklearn.naive_bayes import GaussianNB\n",
    "from sklearn.svm import SVC\n",
    "from sklearn.tree import DecisionTreeClassifier\n",
    "from sklearn.neighbors import KNeighborsClassifier\n",
    "from sklearn.ensemble import RandomForestClassifier\n",
    "from sklearn.ensemble import AdaBoostClassifier\n",
    "from sklearn.metrics import classification_report\n",
    "from sklearn.pipeline import Pipeline\n",
    "from tester import test_classifier\n",
    "\n",
    "%matplotlib inline"
   ]
  },
  {
   "cell_type": "markdown",
   "metadata": {},
   "source": [
    "## Data Exploration"
   ]
  },
  {
   "cell_type": "markdown",
   "metadata": {},
   "source": [
    "I will explore some key characteristics of this dataset before digging into further analysis."
   ]
  },
  {
   "cell_type": "code",
   "execution_count": 3,
   "metadata": {},
   "outputs": [],
   "source": [
    "with open(\"final_project_dataset.pkl\", \"r\") as data_file:\n",
    "    data_dict = pickle.load(data_file)"
   ]
  },
  {
   "cell_type": "markdown",
   "metadata": {},
   "source": [
    "Total number of data points"
   ]
  },
  {
   "cell_type": "code",
   "execution_count": 4,
   "metadata": {},
   "outputs": [
    {
     "data": {
      "text/plain": [
       "146"
      ]
     },
     "execution_count": 4,
     "metadata": {},
     "output_type": "execute_result"
    }
   ],
   "source": [
    "len(data_dict)"
   ]
  },
  {
   "cell_type": "markdown",
   "metadata": {},
   "source": [
    "Number of poi vs. Number of non-poi"
   ]
  },
  {
   "cell_type": "code",
   "execution_count": 5,
   "metadata": {},
   "outputs": [
    {
     "name": "stdout",
     "output_type": "stream",
     "text": [
      "Number of poi:  18\n",
      "Number of non-poi: 128\n"
     ]
    }
   ],
   "source": [
    "count_poi = 0\n",
    "count_non_poi = 0\n",
    "    \n",
    "for k, v in data_dict.items():\n",
    "    if v['poi']:\n",
    "        count_poi += 1\n",
    "    else:\n",
    "        count_non_poi +=1\n",
    "\n",
    "print \"Number of poi: \", count_poi\n",
    "print \"Number of non-poi:\", count_non_poi"
   ]
  },
  {
   "cell_type": "markdown",
   "metadata": {},
   "source": [
    "Number of features"
   ]
  },
  {
   "cell_type": "code",
   "execution_count": 6,
   "metadata": {},
   "outputs": [
    {
     "name": "stdout",
     "output_type": "stream",
     "text": [
      "21\n"
     ]
    }
   ],
   "source": [
    "for _, v in data_dict.items():\n",
    "    print len(v)\n",
    "    break"
   ]
  },
  {
   "cell_type": "markdown",
   "metadata": {},
   "source": [
    "Are there any missing values? I will count the missing values within each field."
   ]
  },
  {
   "cell_type": "code",
   "execution_count": 7,
   "metadata": {},
   "outputs": [
    {
     "data": {
      "text/plain": [
       "{'bonus': 64,\n",
       " 'deferral_payments': 107,\n",
       " 'deferred_income': 97,\n",
       " 'director_fees': 129,\n",
       " 'email_address': 35,\n",
       " 'exercised_stock_options': 44,\n",
       " 'expenses': 51,\n",
       " 'from_messages': 60,\n",
       " 'from_poi_to_this_person': 60,\n",
       " 'from_this_person_to_poi': 60,\n",
       " 'loan_advances': 142,\n",
       " 'long_term_incentive': 80,\n",
       " 'other': 53,\n",
       " 'restricted_stock': 36,\n",
       " 'restricted_stock_deferred': 128,\n",
       " 'salary': 51,\n",
       " 'shared_receipt_with_poi': 60,\n",
       " 'to_messages': 60,\n",
       " 'total_payments': 21,\n",
       " 'total_stock_value': 20}"
      ]
     },
     "execution_count": 7,
     "metadata": {},
     "output_type": "execute_result"
    }
   ],
   "source": [
    "count_missing = {}\n",
    "for _, value in data_dict.items():\n",
    "    for k, v in value.items(): \n",
    "        if v == 'NaN':\n",
    "            try:\n",
    "                count_missing[k] += 1\n",
    "            except:\n",
    "                count_missing[k] = 1\n",
    "\n",
    "count_missing"
   ]
  },
  {
   "cell_type": "markdown",
   "metadata": {},
   "source": [
    "We can see that there are a lot of missing values, which can be a problem in future analysis."
   ]
  },
  {
   "cell_type": "markdown",
   "metadata": {},
   "source": [
    "## Remove Outliers"
   ]
  },
  {
   "cell_type": "markdown",
   "metadata": {},
   "source": [
    "The dataset we have may not be clean. There might be some outliers hidden inside that can affect our analysis. Therefore, it is essential to discover those outliers and remove them before conducting further analysis. The features I will start to explore are 'salary' and 'poi'."
   ]
  },
  {
   "cell_type": "code",
   "execution_count": 8,
   "metadata": {},
   "outputs": [
    {
     "data": {
      "text/plain": [
       "<matplotlib.axes._subplots.AxesSubplot at 0x11005be50>"
      ]
     },
     "execution_count": 8,
     "metadata": {},
     "output_type": "execute_result"
    },
    {
     "data": {
      "image/png": "[encoded data removed]",
      "text/plain": [
       "<matplotlib.figure.Figure at 0x11005bc50>"
      ]
     },
     "metadata": {},
     "output_type": "display_data"
    }
   ],
   "source": [
    "enron_dataframe = pd.DataFrame(data_dict.values())\n",
    "employees = pd.Series(data_dict.keys())\n",
    "enron_dataframe.set_index(employees, inplace=True)\n",
    "enron_dataframe = enron_dataframe.apply(lambda x:\n",
    "                                        pd.to_numeric(x, errors='coerce'))\n",
    "\n",
    "poi = pd.Series([0, 1], index=[False, True])\n",
    "enron_dataframe['poi'] = enron_dataframe.poi.map(poi)\n",
    "\n",
    "enron_dataframe.plot.scatter(x='poi', y='salary')"
   ]
  },
  {
   "cell_type": "markdown",
   "metadata": {},
   "source": [
    "There is one point in the dataset that is significantly different from others. It is a good idea to read through the names to find out which data point is the outliers."
   ]
  },
  {
   "cell_type": "code",
   "execution_count": 9,
   "metadata": {
    "scrolled": true
   },
   "outputs": [
    {
     "name": "stdout",
     "output_type": "stream",
     "text": [
      "METTS MARK\n",
      "BAXTER JOHN C\n",
      "ELLIOTT STEVEN\n",
      "CORDES WILLIAM R\n",
      "HANNON KEVIN P\n",
      "MORDAUNT KRISTINA M\n",
      "MEYER ROCKFORD G\n",
      "MCMAHON JEFFREY\n",
      "HORTON STANLEY C\n",
      "PIPER GREGORY F\n",
      "HUMPHREY GENE E\n",
      "UMANOFF ADAM S\n",
      "BLACHMAN JEREMY M\n",
      "SUNDE MARTIN\n",
      "GIBBS DANA R\n",
      "LOWRY CHARLES P\n",
      "COLWELL WESLEY\n",
      "MULLER MARK S\n",
      "JACKSON CHARLENE R\n",
      "WESTFAHL RICHARD K\n",
      "WALTERS GARETH W\n",
      "WALLS JR ROBERT H\n",
      "KITCHEN LOUISE\n",
      "CHAN RONNIE\n",
      "BELFER ROBERT\n",
      "SHANKMAN JEFFREY A\n",
      "WODRASKA JOHN\n",
      "BERGSIEKER RICHARD P\n",
      "URQUHART JOHN A\n",
      "BIBI PHILIPPE A\n",
      "RIEKER PAULA H\n",
      "WHALEY DAVID A\n",
      "BECK SALLY W\n",
      "HAUG DAVID L\n",
      "ECHOLS JOHN B\n",
      "MENDELSOHN JOHN\n",
      "HICKERSON GARY J\n",
      "CLINE KENNETH W\n",
      "LEWIS RICHARD\n",
      "HAYES ROBERT E\n",
      "MCCARTY DANNY J\n",
      "KOPPER MICHAEL J\n",
      "LEFF DANIEL P\n",
      "LAVORATO JOHN J\n",
      "BERBERIAN DAVID\n",
      "DETMERING TIMOTHY J\n",
      "WAKEHAM JOHN\n",
      "POWERS WILLIAM\n",
      "GOLD JOSEPH\n",
      "BANNANTINE JAMES M\n",
      "DUNCAN JOHN H\n",
      "SHAPIRO RICHARD S\n",
      "SHERRIFF JOHN R\n",
      "SHELBY REX\n",
      "LEMAISTRE CHARLES\n",
      "DEFFNER JOSEPH M\n",
      "KISHKILL JOSEPH G\n",
      "WHALLEY LAWRENCE G\n",
      "MCCONNELL MICHAEL S\n",
      "PIRO JIM\n",
      "DELAINEY DAVID W\n",
      "SULLIVAN-SHAKLOVITZ COLLEEN\n",
      "WROBEL BRUCE\n",
      "LINDHOLM TOD A\n",
      "MEYER JEROME J\n",
      "LAY KENNETH L\n",
      "BUTTS ROBERT H\n",
      "OLSON CINDY K\n",
      "MCDONALD REBECCA\n",
      "CUMBERLAND MICHAEL S\n",
      "GAHN ROBERT S\n",
      "MCCLELLAN GEORGE\n",
      "HERMANN ROBERT J\n",
      "SCRIMSHAW MATTHEW\n",
      "GATHMANN WILLIAM D\n",
      "HAEDICKE MARK E\n",
      "BOWEN JR RAYMOND M\n",
      "GILLIS JOHN\n",
      "FITZGERALD JAY L\n",
      "MORAN MICHAEL P\n",
      "REDMOND BRIAN L\n",
      "BAZELIDES PHILIP J\n",
      "BELDEN TIMOTHY N\n",
      "DURAN WILLIAM D\n",
      "THORN TERENCE H\n",
      "FASTOW ANDREW S\n",
      "FOY JOE\n",
      "CALGER CHRISTOPHER F\n",
      "RICE KENNETH D\n",
      "KAMINSKI WINCENTY J\n",
      "LOCKHART EUGENE E\n",
      "COX DAVID\n",
      "OVERDYKE JR JERE C\n",
      "PEREIRA PAULO V. FERRAZ\n",
      "STABLER FRANK\n",
      "SKILLING JEFFREY K\n",
      "BLAKE JR. NORMAN P\n",
      "SHERRICK JEFFREY B\n",
      "PRENTICE JAMES\n",
      "GRAY RODNEY\n",
      "PICKERING MARK R\n",
      "THE TRAVEL AGENCY IN THE PARK\n",
      "NOLES JAMES L\n",
      "KEAN STEVEN J\n",
      "TOTAL\n",
      "FOWLER PEGGY\n",
      "WASAFF GEORGE\n",
      "WHITE JR THOMAS E\n",
      "CHRISTODOULOU DIOMEDES\n",
      "ALLEN PHILLIP K\n",
      "SHARP VICTORIA T\n",
      "JAEDICKE ROBERT\n",
      "WINOKUR JR. HERBERT S\n",
      "BROWN MICHAEL\n",
      "BADUM JAMES P\n",
      "HUGHES JAMES A\n",
      "REYNOLDS LAWRENCE\n",
      "DIMICHELE RICHARD G\n",
      "BHATNAGAR SANJAY\n",
      "CARTER REBECCA C\n",
      "BUCHANAN HAROLD G\n",
      "YEAP SOON\n",
      "MURRAY JULIA H\n",
      "GARLAND C KEVIN\n",
      "DODSON KEITH\n",
      "YEAGER F SCOTT\n",
      "HIRKO JOSEPH\n",
      "DIETRICH JANET R\n",
      "DERRICK JR. JAMES V\n",
      "FREVERT MARK A\n",
      "PAI LOU L\n",
      "BAY FRANKLIN R\n",
      "HAYSLETT RODERICK J\n",
      "FUGH JOHN L\n",
      "FALLON JAMES B\n",
      "KOENIG MARK E\n",
      "SAVAGE FRANK\n",
      "IZZO LAWRENCE L\n",
      "TILNEY ELIZABETH A\n",
      "MARTIN AMANDA K\n",
      "BUY RICHARD B\n",
      "GRAMM WENDY L\n",
      "CAUSEY RICHARD A\n",
      "TAYLOR MITCHELL S\n",
      "DONAHUE JR JEFFREY M\n",
      "GLISAN JR BEN F\n"
     ]
    }
   ],
   "source": [
    "for key in data_dict.keys():\n",
    "    print key"
   ]
  },
  {
   "cell_type": "markdown",
   "metadata": {},
   "source": [
    "There is a key named \"TOTAL\", which should be the sum of all the other dataset. It is a good idea to remove it. Another weird name is \"THE TRAVEL AGENCY IN THE PARK\". It doesn't sound like a real person. I will remove it as well."
   ]
  },
  {
   "cell_type": "code",
   "execution_count": 10,
   "metadata": {},
   "outputs": [
    {
     "data": {
      "text/plain": [
       "{'bonus': 'NaN',\n",
       " 'deferral_payments': 'NaN',\n",
       " 'deferred_income': 'NaN',\n",
       " 'director_fees': 'NaN',\n",
       " 'email_address': 'NaN',\n",
       " 'exercised_stock_options': 'NaN',\n",
       " 'expenses': 'NaN',\n",
       " 'from_messages': 'NaN',\n",
       " 'from_poi_to_this_person': 'NaN',\n",
       " 'from_this_person_to_poi': 'NaN',\n",
       " 'loan_advances': 'NaN',\n",
       " 'long_term_incentive': 'NaN',\n",
       " 'other': 362096,\n",
       " 'poi': False,\n",
       " 'restricted_stock': 'NaN',\n",
       " 'restricted_stock_deferred': 'NaN',\n",
       " 'salary': 'NaN',\n",
       " 'shared_receipt_with_poi': 'NaN',\n",
       " 'to_messages': 'NaN',\n",
       " 'total_payments': 362096,\n",
       " 'total_stock_value': 'NaN'}"
      ]
     },
     "execution_count": 10,
     "metadata": {},
     "output_type": "execute_result"
    }
   ],
   "source": [
    "data_dict.pop('TOTAL', 0)\n",
    "data_dict.pop('THE TRAVEL AGENCY IN THE PARK',0)"
   ]
  },
  {
   "cell_type": "markdown",
   "metadata": {},
   "source": [
    "There are still some outliers, but it could because they have their special characteristics that make them stand out. I will draw all the other figures to scan through to make sure no significant outliers."
   ]
  },
  {
   "cell_type": "code",
   "execution_count": 11,
   "metadata": {
    "scrolled": true
   },
   "outputs": [
    {
     "name": "stderr",
     "output_type": "stream",
     "text": [
      "//anaconda/envs/python2/lib/python2.7/site-packages/matplotlib/pyplot.py:524: RuntimeWarning: More than 20 figures have been opened. Figures created through the pyplot interface (`matplotlib.pyplot.figure`) are retained until explicitly closed and may consume too much memory. (To control this warning, see the rcParam `figure.max_open_warning`).\n",
      "  max_open_warning, RuntimeWarning)\n"
     ]
    },
    {
     "data": {
      "image/png": "[encoded data removed]",
      "text/plain": [
       "<matplotlib.figure.Figure at 0x1100486d0>"
      ]
     },
     "metadata": {},
     "output_type": "display_data"
    },
    {
     "data": {
      "image/png": "[encoded data removed]",
      "text/plain": [
       "<matplotlib.figure.Figure at 0x110048d90>"
      ]
     },
     "metadata": {},
     "output_type": "display_data"
    },
    {
     "data": {
      "image/png": "[encoded data removed]",
      "text/plain": [
       "<matplotlib.figure.Figure at 0x110520c10>"
      ]
     },
     "metadata": {},
     "output_type": "display_data"
    },
    {
     "data": {
      "image/png": "[encoded data removed]",
      "text/plain": [
       "<matplotlib.figure.Figure at 0x1103e5810>"
      ]
     },
     "metadata": {},
     "output_type": "display_data"
    },
    {
     "data": {
      "image/png": "[encoded data removed]",
      "text/plain": [
       "<matplotlib.figure.Figure at 0x110651d50>"
      ]
     },
     "metadata": {},
     "output_type": "display_data"
    },
    {
     "data": {
      "image/png": "[encoded data removed]",
      "text/plain": [
       "<matplotlib.figure.Figure at 0x1106eaf50>"
      ]
     },
     "metadata": {},
     "output_type": "display_data"
    },
    {
     "data": {
      "image/png": "[encoded data removed]",
      "text/plain": [
       "<matplotlib.figure.Figure at 0x1107781d0>"
      ]
     },
     "metadata": {},
     "output_type": "display_data"
    },
    {
     "data": {
      "image/png": "[encoded data removed]",
      "text/plain": [
       "<matplotlib.figure.Figure at 0x110850990>"
      ]
     },
     "metadata": {},
     "output_type": "display_data"
    },
    {
     "data": {
      "image/png": "[encoded data removed]",
      "text/plain": [
       "<matplotlib.figure.Figure at 0x1108f9110>"
      ]
     },
     "metadata": {},
     "output_type": "display_data"
    },
    {
     "data": {
      "image/png": "[encoded data removed]",
      "text/plain": [
       "<matplotlib.figure.Figure at 0x1109b6a50>"
      ]
     },
     "metadata": {},
     "output_type": "display_data"
    },
    {
     "data": {
      "image/png": "[encoded data removed]",
      "text/plain": [
       "<matplotlib.figure.Figure at 0x110a66390>"
      ]
     },
     "metadata": {},
     "output_type": "display_data"
    },
    {
     "data": {
      "image/png": "[encoded data removed]",
      "text/plain": [
       "<matplotlib.figure.Figure at 0x110aff250>"
      ]
     },
     "metadata": {},
     "output_type": "display_data"
    },
    {
     "data": {
      "image/png": "[encoded data removed]",
      "text/plain": [
       "<matplotlib.figure.Figure at 0x110bbec90>"
      ]
     },
     "metadata": {},
     "output_type": "display_data"
    },
    {
     "data": {
      "image/png": "[encoded data removed]",
      "text/plain": [
       "<matplotlib.figure.Figure at 0x110c63410>"
      ]
     },
     "metadata": {},
     "output_type": "display_data"
    },
    {
     "data": {
      "image/png": "[encoded data removed]",
      "text/plain": [
       "<matplotlib.figure.Figure at 0x110be2310>"
      ]
     },
     "metadata": {},
     "output_type": "display_data"
    },
    {
     "data": {
      "image/png": "[encoded data removed]",
      "text/plain": [
       "<matplotlib.figure.Figure at 0x110db3650>"
      ]
     },
     "metadata": {},
     "output_type": "display_data"
    },
    {
     "data": {
      "image/png": "[encoded data removed]",
      "text/plain": [
       "<matplotlib.figure.Figure at 0x110e5b750>"
      ]
     },
     "metadata": {},
     "output_type": "display_data"
    },
    {
     "data": {
      "image/png": "[encoded data removed]",
      "text/plain": [
       "<matplotlib.figure.Figure at 0x110e0c750>"
      ]
     },
     "metadata": {},
     "output_type": "display_data"
    },
    {
     "data": {
      "image/png": "[encoded data removed]",
      "text/plain": [
       "<matplotlib.figure.Figure at 0x110fb36d0>"
      ]
     },
     "metadata": {},
     "output_type": "display_data"
    },
    {
     "data": {
      "image/png": "[encoded data removed]",
      "text/plain": [
       "<matplotlib.figure.Figure at 0x1110583d0>"
      ]
     },
     "metadata": {},
     "output_type": "display_data"
    },
    {
     "data": {
      "image/png": "[encoded data removed]",
      "text/plain": [
       "<matplotlib.figure.Figure at 0x111204490>"
      ]
     },
     "metadata": {},
     "output_type": "display_data"
    }
   ],
   "source": [
    "for col in enron_dataframe.columns:\n",
    "    enron_dataframe.plot.scatter(x='poi', y=col)"
   ]
  },
  {
   "cell_type": "markdown",
   "metadata": {},
   "source": [
    "There are several points stand out that I want to explore a little bit more. However, since we do not have a lot data in this dataset, I will not remove those potential outliers right now. I might remove them later."
   ]
  },
  {
   "cell_type": "markdown",
   "metadata": {},
   "source": [
    "There is one non-poi with significantly high bonus amount."
   ]
  },
  {
   "cell_type": "code",
   "execution_count": 12,
   "metadata": {},
   "outputs": [
    {
     "name": "stdout",
     "output_type": "stream",
     "text": [
      "LAVORATO JOHN J : 8000000\n"
     ]
    }
   ],
   "source": [
    "for k, v in data_dict.items():\n",
    "    if v['bonus'] != \"NaN\" and v['bonus'] > 7000000:\n",
    "        print k, \":\", v['bonus']"
   ]
  },
  {
   "cell_type": "markdown",
   "metadata": {},
   "source": [
    "After looking through the original data, this person does have a significantly high bonus comparing with his salary. Normally people with very high bonus are likely to be a poi. It is possible that he is an outlier. "
   ]
  },
  {
   "cell_type": "markdown",
   "metadata": {},
   "source": [
    "There is another person with significantly high deferral payments amount."
   ]
  },
  {
   "cell_type": "code",
   "execution_count": 13,
   "metadata": {},
   "outputs": [
    {
     "name": "stdout",
     "output_type": "stream",
     "text": [
      "FREVERT MARK A : 6426990\n"
     ]
    }
   ],
   "source": [
    "for k, v in data_dict.items():\n",
    "    if v['deferral_payments'] != \"NaN\" and v['deferral_payments'] > 6000000:\n",
    "        print k, \":\", v['deferral_payments']"
   ]
  },
  {
   "cell_type": "markdown",
   "metadata": {},
   "source": [
    "People with a lot deferred payments are concerned more with the company's long-term development. Hence, they are less likely to be a poi. This data point proves it. He is not an outlier."
   ]
  },
  {
   "cell_type": "markdown",
   "metadata": {},
   "source": [
    "An poi has a very high total payment."
   ]
  },
  {
   "cell_type": "code",
   "execution_count": 14,
   "metadata": {},
   "outputs": [
    {
     "name": "stdout",
     "output_type": "stream",
     "text": [
      "LAY KENNETH L : 103559793\n"
     ]
    }
   ],
   "source": [
    "for k, v in data_dict.items():\n",
    "    if v['total_payments'] != \"NaN\" and v['total_payments'] > 100000000:\n",
    "        print k, \":\", v['total_payments']"
   ]
  },
  {
   "cell_type": "markdown",
   "metadata": {},
   "source": [
    "He is the CEO of Enron during that time. It is not unusual for him to earn a lot and involve in the scandal. He is not an outlier."
   ]
  },
  {
   "cell_type": "markdown",
   "metadata": {},
   "source": [
    "There are some other interesting things I noticed. Two factors, restricted stock deferred and director fee, have too many \"NaN\", and all people have these information are non-poi. These two features cannot provide much information. Therefore, they will be exclude from further analysis."
   ]
  },
  {
   "cell_type": "markdown",
   "metadata": {},
   "source": [
    "## Feature Creation"
   ]
  },
  {
   "cell_type": "markdown",
   "metadata": {},
   "source": [
    "There are many features available, but not all of them are as informative as others. I will create three more features that I think will be available to the analysis.\n",
    "\n",
    "* bonus/salary ratio\n",
    "* from_this_person_to_poi/from_messages ratio\n",
    "* from_poi_to_this_person/to_messages ratio\n",
    "\n",
    "At the beginning, I will use all the features and run different algorithms to check the results.\n",
    "\n",
    "Later, I will applied feature selections to choose the feature that is most effective for the prediction."
   ]
  },
  {
   "cell_type": "markdown",
   "metadata": {},
   "source": [
    "I need to first create the original features list. I need to make `poi` the first for further analysis"
   ]
  },
  {
   "cell_type": "code",
   "execution_count": 15,
   "metadata": {},
   "outputs": [
    {
     "data": {
      "text/plain": [
       "['poi',\n",
       " 'salary',\n",
       " 'to_messages',\n",
       " 'deferral_payments',\n",
       " 'total_payments',\n",
       " 'exercised_stock_options',\n",
       " 'bonus',\n",
       " 'restricted_stock',\n",
       " 'shared_receipt_with_poi',\n",
       " 'restricted_stock_deferred',\n",
       " 'total_stock_value',\n",
       " 'expenses',\n",
       " 'loan_advances',\n",
       " 'from_messages',\n",
       " 'other',\n",
       " 'from_this_person_to_poi',\n",
       " 'director_fees',\n",
       " 'deferred_income',\n",
       " 'long_term_incentive',\n",
       " 'email_address',\n",
       " 'from_poi_to_this_person']"
      ]
     },
     "execution_count": 15,
     "metadata": {},
     "output_type": "execute_result"
    }
   ],
   "source": [
    "features_list = []\n",
    "\n",
    "for _, value in data_dict.items():\n",
    "    for k, _ in value.items():\n",
    "        features_list.append(k)\n",
    "    break\n",
    "\n",
    "features_list.remove('poi')\n",
    "features_list.insert(0, 'poi')\n",
    "features_list"
   ]
  },
  {
   "cell_type": "markdown",
   "metadata": {},
   "source": [
    "Email address will not help with the analysis, and it will cause issues when define labels later. I will remove it."
   ]
  },
  {
   "cell_type": "code",
   "execution_count": 16,
   "metadata": {},
   "outputs": [],
   "source": [
    "features_list.remove('email_address')"
   ]
  },
  {
   "cell_type": "markdown",
   "metadata": {},
   "source": [
    "Now, let's add the three features mentioned above."
   ]
  },
  {
   "cell_type": "code",
   "execution_count": 17,
   "metadata": {
    "collapsed": true
   },
   "outputs": [],
   "source": [
    "# bonus/salary ratio\n",
    "for employee, features in data_dict.items():\n",
    "    if features['salary'] != \"NaN\" and features['bonus'] != 'NaN':\n",
    "        features['bonus_salary_ratio'] = \\\n",
    "        float(features['salary'])/float(features['bonus'])\n",
    "    else:\n",
    "        features['bonus_salary_ratio'] = \"NaN\"\n",
    "features_list.append('bonus_salary_ratio')\n",
    "\n",
    "# from_this_person_to_poi/from_messages ratio\n",
    "for employee, features in data_dict.items():\n",
    "    if features['from_this_person_to_poi'] != \"NaN\" and features['from_messages'] != 'NaN':\n",
    "        features['from_this_person_to_poi_percentage'] = \\\n",
    "        float(features['from_this_person_to_poi'])/float(features['from_messages'])\n",
    "    else:\n",
    "        features['from_this_person_to_poi_percentage'] = \"NaN\"\n",
    "features_list.append('from_this_person_to_poi_percentage')\n",
    "\n",
    "# from_poi_to_this_person/to_messages ratio\n",
    "for employee, features in data_dict.items():\n",
    "    if features['from_poi_to_this_person'] != \"NaN\" and features['to_messages'] != 'NaN':\n",
    "        features['from_poi_to_this_person_percentage'] = \\\n",
    "        float(features['from_poi_to_this_person'])/float(features['to_messages'])\n",
    "    else:\n",
    "        features['from_poi_to_this_person_percentage'] = \"NaN\"\n",
    "features_list.append('from_poi_to_this_person_percentage')"
   ]
  },
  {
   "cell_type": "markdown",
   "metadata": {},
   "source": [
    "Since there are a lot of missing values. I will use the mean to replace NaN."
   ]
  },
  {
   "cell_type": "code",
   "execution_count": 18,
   "metadata": {
    "collapsed": true
   },
   "outputs": [],
   "source": [
    "email_features = ['to_messages',\n",
    "                  'from_poi_to_this_person',\n",
    "                  'from_poi_to_this_person_percentage',\n",
    "                  'from_messages',\n",
    "                  'from_this_person_to_poi',\n",
    "                  'from_this_person_to_poi_percentage',\n",
    "                  'shared_receipt_with_poi']\n",
    "\n",
    "\n",
    "email_feature_sums = defaultdict(lambda:0)\n",
    "email_feature_counts = defaultdict(lambda:0)\n",
    "\n",
    "for employee, features in data_dict.iteritems():\n",
    "    for feature in email_features:\n",
    "        if features[feature] != \"NaN\":\n",
    "            email_feature_sums[feature] += features[feature]\n",
    "            email_feature_counts[feature] += 1\n",
    "\n",
    "email_feature_means = {}\n",
    "for feature in email_features:\n",
    "    email_feature_means[feature] = float(email_feature_sums[feature]) / float(email_feature_counts[feature])\n",
    "\n",
    "for employee, features in data_dict.iteritems():\n",
    "    for feature in email_features:\n",
    "        if features[feature] == \"NaN\":\n",
    "            features[feature] = email_feature_means[feature]"
   ]
  },
  {
   "cell_type": "markdown",
   "metadata": {},
   "source": [
    "Last but not the least, for the future analysis, I am going to create another dataset dictionary, so the original dataset won't be influenced."
   ]
  },
  {
   "cell_type": "code",
   "execution_count": 19,
   "metadata": {
    "collapsed": true
   },
   "outputs": [],
   "source": [
    "enron_dataset = data_dict"
   ]
  },
  {
   "cell_type": "markdown",
   "metadata": {},
   "source": [
    "## Feature Selection & Algorithms"
   ]
  },
  {
   "cell_type": "markdown",
   "metadata": {},
   "source": [
    "To start to train different algorithms, I will \n",
    "\n",
    "* define the training and testing set\n",
    "* define the cross validation set\n",
    "* do feature scaling & feature selection\n",
    "* run different algorithms & tune algorithms\n",
    "* repeat till reach the expected goal"
   ]
  },
  {
   "cell_type": "markdown",
   "metadata": {},
   "source": [
    "There are some built functions from feature_format script to help us extract label and feature information."
   ]
  },
  {
   "cell_type": "code",
   "execution_count": 20,
   "metadata": {},
   "outputs": [],
   "source": [
    "data = featureFormat(enron_dataset, features_list, sort_keys = True)\n",
    "labels, features = targetFeatureSplit(data)\n",
    "\n",
    "features_train, features_test, labels_train, labels_test = \\\n",
    "    train_test_split(features, labels, test_size=0.2, random_state=42)"
   ]
  },
  {
   "cell_type": "markdown",
   "metadata": {},
   "source": [
    "Since not all of the features are under the same range. To help with further analysis, I will use standard feature scaling. "
   ]
  },
  {
   "cell_type": "code",
   "execution_count": 21,
   "metadata": {
    "collapsed": true
   },
   "outputs": [],
   "source": [
    "scaler = MinMaxScaler()"
   ]
  },
  {
   "cell_type": "code",
   "execution_count": 22,
   "metadata": {},
   "outputs": [],
   "source": [
    "features_train_std = scaler.fit_transform(features_train)\n",
    "features_test_std = scaler.transform(features_test)"
   ]
  },
  {
   "cell_type": "code",
   "execution_count": 23,
   "metadata": {
    "collapsed": true
   },
   "outputs": [],
   "source": [
    "select = SelectKBest()"
   ]
  },
  {
   "cell_type": "code",
   "execution_count": 24,
   "metadata": {},
   "outputs": [],
   "source": [
    "cv = StratifiedShuffleSplit(\n",
    "    n_splits = 100,\n",
    "    test_size = 0.3,\n",
    "    random_state = 6\n",
    "    )"
   ]
  },
  {
   "cell_type": "markdown",
   "metadata": {},
   "source": [
    "### Naive Bayes"
   ]
  },
  {
   "cell_type": "code",
   "execution_count": 25,
   "metadata": {},
   "outputs": [
    {
     "name": "stdout",
     "output_type": "stream",
     "text": [
      "GaussianNB(priors=None)\n",
      "\tAccuracy: 0.74600\tPrecision: 0.23177\tRecall: 0.39100\tF1: 0.29103\tF2: 0.34377\n",
      "\tTotal predictions: 15000\tTrue positives:  782\tFalse positives: 2592\tFalse negatives: 1218\tTrue negatives: 10408\n",
      "\n"
     ]
    }
   ],
   "source": [
    "clf = GaussianNB()\n",
    "clf.fit(features_train_std, labels_train)\n",
    "pred = clf.predict(features_test_std)\n",
    "\n",
    "test_classifier(clf, enron_dataset, features_list)"
   ]
  },
  {
   "cell_type": "markdown",
   "metadata": {},
   "source": [
    "### Decision Tree"
   ]
  },
  {
   "cell_type": "code",
   "execution_count": 26,
   "metadata": {},
   "outputs": [
    {
     "name": "stderr",
     "output_type": "stream",
     "text": [
      "//anaconda/envs/python2/lib/python2.7/site-packages/sklearn/feature_selection/univariate_selection.py:113: UserWarning: Features [11] are constant.\n",
      "  UserWarning)\n",
      "//anaconda/envs/python2/lib/python2.7/site-packages/sklearn/feature_selection/univariate_selection.py:114: RuntimeWarning: invalid value encountered in divide\n",
      "  f = msb / msw\n",
      "//anaconda/envs/python2/lib/python2.7/site-packages/sklearn/metrics/classification.py:1113: UndefinedMetricWarning: F-score is ill-defined and being set to 0.0 due to no predicted samples.\n",
      "  'precision', 'predicted', average, warn_for)\n"
     ]
    },
    {
     "name": "stdout",
     "output_type": "stream",
     "text": [
      "\n",
      "Best parameters are:  {'tree__min_samples_split': 2, 'feature_selection__k': 'all', 'tree__min_samples_leaf': 1} \n",
      "\n"
     ]
    },
    {
     "name": "stderr",
     "output_type": "stream",
     "text": [
      "//anaconda/envs/python2/lib/python2.7/site-packages/sklearn/feature_selection/univariate_selection.py:114: RuntimeWarning: divide by zero encountered in divide\n",
      "  f = msb / msw\n"
     ]
    },
    {
     "name": "stdout",
     "output_type": "stream",
     "text": [
      "Pipeline(steps=[('feature_selection', SelectKBest(k='all', score_func=<function f_classif at 0x1185bd758>)), ('tree', DecisionTreeClassifier(class_weight=None, criterion='gini', max_depth=None,\n",
      "            max_features=None, max_leaf_nodes=None,\n",
      "            min_impurity_split=1e-07, min_samples_leaf=1,\n",
      "            min_samples_split=2, min_weight_fraction_leaf=0.0,\n",
      "            presort=False, random_state=None, splitter='best'))])\n",
      "\tAccuracy: 1.00000\tPrecision: 1.00000\tRecall: 1.00000\tF1: 1.00000\tF2: 1.00000\n",
      "\tTotal predictions: 15000\tTrue positives: 2000\tFalse positives:    0\tFalse negatives:    0\tTrue negatives: 13000\n",
      "\n",
      "None\n"
     ]
    },
    {
     "name": "stderr",
     "output_type": "stream",
     "text": [
      "//anaconda/envs/python2/lib/python2.7/site-packages/sklearn/feature_selection/univariate_selection.py:113: UserWarning: Features [ 0 12] are constant.\n",
      "  UserWarning)\n"
     ]
    }
   ],
   "source": [
    "steps = [\n",
    "    ('feature_selection', select),\n",
    "    ('tree', DecisionTreeClassifier())\n",
    "]\n",
    "\n",
    "pipeline = Pipeline(steps)\n",
    "\n",
    "parameters = {\n",
    "    'feature_selection__k': [5, 6, 7, 8, 'all'],\n",
    "    'tree__min_samples_split': [2, 3, 5],\n",
    "    'tree__min_samples_leaf': [1, 2, 3]\n",
    "}\n",
    "\n",
    "grid = GridSearchCV(pipeline, param_grid=parameters, cv=cv, scoring='f1', error_score=0)\n",
    "grid.fit(features_train_std, labels_train)\n",
    "clf=grid.best_estimator_\n",
    "print \"\\n\", \"Best parameters are: \", grid.best_params_, \"\\n\"\n",
    "\n",
    "features_selected = [features_list[i] \n",
    "                     for i in clf.named_steps['feature_selection'].get_support(indices=True)]\n",
    "features_selected.insert(0, 'poi')\n",
    "\n",
    "print test_classifier(clf, enron_dataset, features_selected)"
   ]
  },
  {
   "cell_type": "markdown",
   "metadata": {},
   "source": [
    "### KNN"
   ]
  },
  {
   "cell_type": "code",
   "execution_count": 27,
   "metadata": {},
   "outputs": [
    {
     "name": "stdout",
     "output_type": "stream",
     "text": [
      "\n",
      "Best parameters are:  {'knn__leaf_size': 1, 'feature_selection__k': 'all', 'knn__algorithm': 'auto', 'knn__n_neighbors': 3} \n",
      "\n",
      "Pipeline(steps=[('feature_selection', SelectKBest(k='all', score_func=<function f_classif at 0x1185bd758>)), ('knn', KNeighborsClassifier(algorithm='auto', leaf_size=1, metric='minkowski',\n",
      "           metric_params=None, n_jobs=1, n_neighbors=3, p=2,\n",
      "           weights='uniform'))])\n",
      "\tAccuracy: 0.87967\tPrecision: 0.61847\tRecall: 0.25450\tF1: 0.36061\tF2: 0.28845\n",
      "\tTotal predictions: 15000\tTrue positives:  509\tFalse positives:  314\tFalse negatives: 1491\tTrue negatives: 12686\n",
      "\n",
      "None\n"
     ]
    }
   ],
   "source": [
    "estimators = [\n",
    "    ('feature_selection', select),\n",
    "    ('knn', KNeighborsClassifier())\n",
    "]\n",
    "\n",
    "pipeline = Pipeline(estimators)\n",
    "\n",
    "parameters = {\n",
    "    'feature_selection__k': [4, 5, 6, 7, 'all'],\n",
    "    'knn__n_neighbors': [2, 3, 4, 5],\n",
    "    'knn__leaf_size': [1, 10, 20, 30],\n",
    "    'knn__algorithm': ['auto', 'ball_tree', 'kd_tree', 'brute']\n",
    "}\n",
    "\n",
    "grid = GridSearchCV(pipeline, param_grid=parameters, scoring='f1', cv=cv, error_score=0)\n",
    "grid.fit(features_train_std, labels_train)\n",
    "\n",
    "clf = grid.best_estimator_\n",
    "print \"\\n\", \"Best parameters are: \", grid.best_params_, \"\\n\"\n",
    "\n",
    "features_selected = [features_list[i] \n",
    "                     for i in clf.named_steps['feature_selection'].get_support(indices=True)]\n",
    "features_selected.insert(0, 'poi')\n",
    "\n",
    "print test_classifier(clf, enron_dataset, features_selected)"
   ]
  },
  {
   "cell_type": "markdown",
   "metadata": {},
   "source": [
    "### Random Forest"
   ]
  },
  {
   "cell_type": "code",
   "execution_count": 25,
   "metadata": {},
   "outputs": [
    {
     "name": "stderr",
     "output_type": "stream",
     "text": [
      "//anaconda/envs/python2/lib/python2.7/site-packages/sklearn/metrics/classification.py:1113: UndefinedMetricWarning: F-score is ill-defined and being set to 0.0 due to no predicted samples.\n",
      "  'precision', 'predicted', average, warn_for)\n",
      "//anaconda/envs/python2/lib/python2.7/site-packages/sklearn/feature_selection/univariate_selection.py:113: UserWarning: Features [11] are constant.\n",
      "  UserWarning)\n",
      "//anaconda/envs/python2/lib/python2.7/site-packages/sklearn/feature_selection/univariate_selection.py:114: RuntimeWarning: invalid value encountered in divide\n",
      "  f = msb / msw\n"
     ]
    },
    {
     "name": "stdout",
     "output_type": "stream",
     "text": [
      "\n",
      "Best parameters are:  {'rf__min_samples_split': 5, 'feature_selection__k': 5, 'rf__criterion': 'gini', 'rf__n_estimators': 10, 'rf__random_state': 10} \n",
      "\n"
     ]
    },
    {
     "name": "stderr",
     "output_type": "stream",
     "text": [
      "//anaconda/envs/python2/lib/python2.7/site-packages/sklearn/feature_selection/univariate_selection.py:114: RuntimeWarning: divide by zero encountered in divide\n",
      "  f = msb / msw\n"
     ]
    },
    {
     "name": "stdout",
     "output_type": "stream",
     "text": [
      "Pipeline(steps=[('feature_selection', SelectKBest(k=5, score_func=<function f_classif at 0x10f94e758>)), ('rf', RandomForestClassifier(bootstrap=True, class_weight=None, criterion='gini',\n",
      "            max_depth=None, max_features='auto', max_leaf_nodes=None,\n",
      "            min_impurity_split=1e-07, min_samples_leaf=1,\n",
      "            min_samples_split=5, min_weight_fraction_leaf=0.0,\n",
      "            n_estimators=10, n_jobs=1, oob_score=False, random_state=10,\n",
      "            verbose=0, warm_start=False))])\n",
      "\tAccuracy: 0.99880\tPrecision: 0.99157\tRecall: 0.99950\tF1: 0.99552\tF2: 0.99790\n",
      "\tTotal predictions: 15000\tTrue positives: 1999\tFalse positives:   17\tFalse negatives:    1\tTrue negatives: 12983\n",
      "\n",
      "None\n"
     ]
    }
   ],
   "source": [
    "steps = [\n",
    "    ('feature_selection', select),\n",
    "    ('rf', RandomForestClassifier())\n",
    "]\n",
    "\n",
    "pipeline = Pipeline(steps)\n",
    "\n",
    "parameters = {\n",
    "    'feature_selection__k': [5, 6, 7, 8, 'all'],\n",
    "    'rf__n_estimators': [10, 20, 30, 40],\n",
    "    'rf__min_samples_split': [2, 5, 10],\n",
    "    'rf__criterion': ['gini', 'entropy'],\n",
    "    'rf__random_state': [10]    \n",
    "}\n",
    "\n",
    "grid = GridSearchCV(pipeline, param_grid=parameters, scoring='f1',\n",
    "    cv=cv, error_score=0)\n",
    "\n",
    "grid.fit(features_train_std, labels_train)\n",
    "\n",
    "clf = grid.best_estimator_\n",
    "print \"\\n\", \"Best parameters are: \", grid.best_params_, \"\\n\"\n",
    "\n",
    "features_selected = [features_list[i] \n",
    "                     for i in clf.named_steps['feature_selection'].get_support(indices=True)]\n",
    "features_selected.insert(0, 'poi')\n",
    "\n",
    "print test_classifier(clf, enron_dataset, features_selected)"
   ]
  },
  {
   "cell_type": "markdown",
   "metadata": {},
   "source": [
    "### AdaBoost"
   ]
  },
  {
   "cell_type": "code",
   "execution_count": 26,
   "metadata": {},
   "outputs": [
    {
     "name": "stdout",
     "output_type": "stream",
     "text": [
      "\n",
      "Best parameters are:  {'adb__learning_rate': 0.1, 'adb__n_estimators': 100, 'feature_selection__k': 'all', 'adb__algorithm': 'SAMME.R'} \n",
      "\n"
     ]
    },
    {
     "name": "stderr",
     "output_type": "stream",
     "text": [
      "//anaconda/envs/python2/lib/python2.7/site-packages/sklearn/feature_selection/univariate_selection.py:113: UserWarning: Features [ 0 12] are constant.\n",
      "  UserWarning)\n"
     ]
    },
    {
     "name": "stdout",
     "output_type": "stream",
     "text": [
      "Pipeline(steps=[('feature_selection', SelectKBest(k='all', score_func=<function f_classif at 0x10f94e758>)), ('adb', AdaBoostClassifier(algorithm='SAMME.R', base_estimator=None,\n",
      "          learning_rate=0.1, n_estimators=100, random_state=None))])\n",
      "\tAccuracy: 1.00000\tPrecision: 1.00000\tRecall: 1.00000\tF1: 1.00000\tF2: 1.00000\n",
      "\tTotal predictions: 15000\tTrue positives: 2000\tFalse positives:    0\tFalse negatives:    0\tTrue negatives: 13000\n",
      "\n",
      "None\n"
     ]
    }
   ],
   "source": [
    "estimators = [\n",
    "    ('feature_selection', select),\n",
    "    ('adb', AdaBoostClassifier())\n",
    "]\n",
    "\n",
    "pipeline = Pipeline(estimators)\n",
    "\n",
    "parameters = {\n",
    "    'feature_selection__k': [3, 4, 5, 6, 7, 'all'],\n",
    "    'adb__n_estimators': [10, 50, 100],\n",
    "    'adb__learning_rate': [0.001, 0.01, 0.1, 1, 2],\n",
    "    'adb__algorithm': ['SAMME', 'SAMME.R']\n",
    "}\n",
    "\n",
    "grid = GridSearchCV(pipeline, param_grid=parameters, scoring='f1', cv=cv, error_score=0)\n",
    "grid.fit(features_train_std, labels_train)\n",
    "\n",
    "clf = grid.best_estimator_\n",
    "print \"\\n\", \"Best parameters are: \", grid.best_params_, \"\\n\"\n",
    "\n",
    "features_selected = [features_list[i] \n",
    "                     for i in clf.named_steps['feature_selection'].get_support(indices=True)]\n",
    "features_selected.insert(0, 'poi')\n",
    "\n",
    "print test_classifier(clf, enron_dataset, features_selected)"
   ]
  },
  {
   "cell_type": "code",
   "execution_count": null,
   "metadata": {
    "collapsed": true
   },
   "outputs": [],
   "source": []
  },
  {
   "cell_type": "code",
   "execution_count": null,
   "metadata": {
    "collapsed": true
   },
   "outputs": [],
   "source": []
  },
  {
   "cell_type": "code",
   "execution_count": null,
   "metadata": {
    "collapsed": true
   },
   "outputs": [],
   "source": []
  },
  {
   "cell_type": "code",
   "execution_count": null,
   "metadata": {
    "collapsed": true
   },
   "outputs": [],
   "source": []
  }
 ],
 "metadata": {
  "kernelspec": {
   "display_name": "Python [conda env:python2]",
   "language": "python",
   "name": "conda-env-python2-py"
  },
  "language_info": {
   "codemirror_mode": {
    "name": "ipython",
    "version": 2
   },
   "file_extension": ".py",
   "mimetype": "text/x-python",
   "name": "python",
   "nbconvert_exporter": "python",
   "pygments_lexer": "ipython2",
   "version": "2.7.13"
  }
 },
 "nbformat": 4,
 "nbformat_minor": 2
}
